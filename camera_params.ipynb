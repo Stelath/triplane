{
 "cells": [
  {
   "cell_type": "code",
   "execution_count": 1,
   "metadata": {},
   "outputs": [],
   "source": [
    "import numpy as np"
   ]
  },
  {
   "cell_type": "code",
   "execution_count": 2,
   "metadata": {},
   "outputs": [],
   "source": [
    "elevation = np.load('dataset/camera/donut/donut_001/elevation.npy')\n",
    "rotation = np.load('dataset/camera/donut/donut_001/rotation.npy')"
   ]
  },
  {
   "cell_type": "code",
   "execution_count": 5,
   "metadata": {},
   "outputs": [
    {
     "data": {
      "text/plain": [
       "((24,), (24,))"
      ]
     },
     "execution_count": 5,
     "metadata": {},
     "output_type": "execute_result"
    }
   ],
   "source": [
    "elevation.shape, rotation.shape"
   ]
  },
  {
   "cell_type": "code",
   "execution_count": 6,
   "metadata": {},
   "outputs": [
    {
     "data": {
      "text/plain": [
       "array([11.44911541, 24.47110213, 19.88310935, 16.48081646, 24.4409819 ,\n",
       "       15.56604474, 10.72689614, 14.52470196,  8.93446113, 23.02598275,\n",
       "       19.30421354,  1.11710623, 14.88990387, 13.98086059, 18.39476493,\n",
       "       22.58492281, 23.04635389, 19.8379073 , 28.62214584,  3.47637547,\n",
       "       14.3991744 , 26.29752429, 21.17060808, 27.42870018])"
      ]
     },
     "execution_count": 6,
     "metadata": {},
     "output_type": "execute_result"
    }
   ],
   "source": [
    "elevation"
   ]
  },
  {
   "cell_type": "code",
   "execution_count": 7,
   "metadata": {},
   "outputs": [
    {
     "data": {
      "text/plain": [
       "array([ 64.56115547, 218.80111118, 124.33532483,  66.04538254,\n",
       "       330.11588254, 352.61935831, 253.6006083 , 319.76969349,\n",
       "       288.50194088,   7.11971765, 146.32971986, 311.32209117,\n",
       "       313.99339815, 289.66401726,  32.46636414,  35.84011013,\n",
       "       121.83427793,  17.01773109, 347.78529916, 129.82923136,\n",
       "       140.44903708, 284.18154706, 262.60188882,  79.0374449 ])"
      ]
     },
     "execution_count": 7,
     "metadata": {},
     "output_type": "execute_result"
    }
   ],
   "source": [
    "rotation"
   ]
  },
  {
   "cell_type": "code",
   "execution_count": null,
   "metadata": {},
   "outputs": [],
   "source": []
  }
 ],
 "metadata": {
  "kernelspec": {
   "display_name": "Python 3",
   "language": "python",
   "name": "python3"
  },
  "language_info": {
   "codemirror_mode": {
    "name": "ipython",
    "version": 3
   },
   "file_extension": ".py",
   "mimetype": "text/x-python",
   "name": "python",
   "nbconvert_exporter": "python",
   "pygments_lexer": "ipython3",
   "version": "3.8.16"
  },
  "orig_nbformat": 4
 },
 "nbformat": 4,
 "nbformat_minor": 2
}
